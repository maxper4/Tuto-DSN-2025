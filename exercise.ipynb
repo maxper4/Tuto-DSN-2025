{
 "cells": [
  {
   "cell_type": "markdown",
   "metadata": {},
   "source": [
    "# Handbook\n",
    "## Decentralized Federated Learning: Enhancing Reliability with Blockchain"
   ]
  },
  {
   "cell_type": "markdown",
   "metadata": {},
   "source": [
    "### Introduction"
   ]
  },
  {
   "cell_type": "markdown",
   "metadata": {},
   "source": [
    "This handbook supplements the [same name tutorial of DSN 2025](https://dsn2025.github.io/cptutorials.html). \n",
    "It practices the concepts explained in python, but still at high-level using [mocks](https://en.wikipedia.org/wiki/Mock_object).\n",
    "\n",
    "This handbook is a [jupyter notebook](https://jupyter.org/). If you are not familiar, a Jupyter Notebook is an interactive environment for writing and running code. \n",
    "It combines code and text in a single document, making it ideal for exploratory programming and sharing results.\n",
    "You will only be required to run some pre-defined cells (with shift+enter when the cell is focused) and to write some piece of code in blank cells, just as if you were in your preferred IDE.\n"
   ]
  },
  {
   "cell_type": "markdown",
   "metadata": {},
   "source": [
    "We will follow the same structure as the tutorial.\n",
    "If you have any question, or found any mistake, feel free to tell us."
   ]
  },
  {
   "cell_type": "markdown",
   "metadata": {},
   "source": [
    "We are using \"Components\" and \"Systems\", combination of components, any of which having specific properties. Your goal is to combine the proper components to build systems with the desired properties."
   ]
  },
  {
   "cell_type": "markdown",
   "metadata": {},
   "source": [
    "To setup the python project, please run:"
   ]
  },
  {
   "cell_type": "code",
   "execution_count": 1,
   "metadata": {},
   "outputs": [],
   "source": [
    "from src.system_base import Component, ExampleSystem\n",
    "empty = Component(\"Empty\", [])"
   ]
  },
  {
   "cell_type": "markdown",
   "metadata": {},
   "source": [
    "We show in the next cell an example component and combine it in a system."
   ]
  },
  {
   "cell_type": "code",
   "execution_count": 2,
   "metadata": {},
   "outputs": [
    {
     "name": "stdout",
     "output_type": "stream",
     "text": [
      "Example System\n",
      "Properties: intrinsic property, combination property 1 and 2\n",
      "Components:\n",
      "Component 1: Example Name (property 1, property 2)\n",
      "Component 2: Example Name (property 1, property 2)\n",
      "\n"
     ]
    }
   ],
   "source": [
    "example_component = Component(\"Example Name\", [\"property 1\", \"property 2\"])\n",
    "example_system = ExampleSystem(\"Example System\", {\n",
    "        \"Component 1\": example_component,\n",
    "        \"Component 2\": example_component\n",
    "    })\n",
    "example_system.display()"
   ]
  },
  {
   "cell_type": "markdown",
   "metadata": {},
   "source": [
    "### 1. Federated Learning\n"
   ]
  },
  {
   "cell_type": "markdown",
   "metadata": {},
   "source": [
    "We start by building a basic Federated Learning system using a centralized server component. As we explained in the tutorial, we cannot trust it."
   ]
  },
  {
   "cell_type": "code",
   "execution_count": 3,
   "metadata": {},
   "outputs": [
    {
     "data": {
      "text/plain": [
       "'Centralized Server (untrusted)'"
      ]
     },
     "execution_count": 3,
     "metadata": {},
     "output_type": "execute_result"
    }
   ],
   "source": [
    "from src.system_base import FederatedLearning, CentralizedServer\n",
    "\n",
    "centralized_server = CentralizedServer()\n",
    "centralized_server.info()"
   ]
  },
  {
   "cell_type": "markdown",
   "metadata": {},
   "source": [
    "A Federated Learning system is composed of two main parts: the aggregation, combining the models from the clients, and the storage of the aggregated model.\n",
    "We first use a centralized server component to aggregate the models from the clients and store the aggregated model. Please replace the empty component by the adequate one in the next cell."
   ]
  },
  {
   "cell_type": "code",
   "execution_count": 4,
   "metadata": {},
   "outputs": [
    {
     "name": "stdout",
     "output_type": "stream",
     "text": [
      "Centralized Federated Learning\n",
      "Properties: untrusted, privacy-preserving, unscalable\n",
      "Components:\n",
      "Aggregation: Centralized Server (untrusted)\n",
      "Models Storage: Centralized Server (untrusted)\n",
      "\n"
     ]
    }
   ],
   "source": [
    "centralized_federated_learning = FederatedLearning(\"Centralized Federated Learning\", {\n",
    "        \"Aggregation\": empty,\n",
    "        \"Models Storage\": empty\n",
    "    })\n",
    "centralized_federated_learning.display()"
   ]
  },
  {
   "cell_type": "markdown",
   "metadata": {},
   "source": [
    "You should obtain the following properties: \"untrusted\", \"privacy-preserving\" and \"unscalable\".\n",
    "Now let's see what happens if the centralized server is compromised."
   ]
  },
  {
   "cell_type": "code",
   "execution_count": 5,
   "metadata": {},
   "outputs": [
    {
     "name": "stdout",
     "output_type": "stream",
     "text": [
      "Centralized Server has been corrupted! It will now try to mislead the system.\n"
     ]
    }
   ],
   "source": [
    "centralized_server.corrupt()"
   ]
  },
  {
   "cell_type": "markdown",
   "metadata": {},
   "source": [
    "The repercussions of a compromised server are severe. The server can manipulate the aggregated model, leading to biased or malicious outcomes. This is a significant risk in Federated Learning systems, as it undermines the trustworthiness of the entire system."
   ]
  },
  {
   "cell_type": "code",
   "execution_count": 6,
   "metadata": {},
   "outputs": [
    {
     "name": "stdout",
     "output_type": "stream",
     "text": [
      "Centralized Federated Learning\n",
      "Properties: untrusted, privacy-leaking\n",
      "Components:\n",
      "Aggregation: Centralized Server (untrusted, corrupted)\n",
      "Models Storage: Centralized Server (untrusted, corrupted)\n",
      "\n"
     ]
    }
   ],
   "source": [
    "centralized_federated_learning.refresh()\n",
    "centralized_federated_learning.display()"
   ]
  },
  {
   "cell_type": "markdown",
   "metadata": {},
   "source": [
    "### 2. Blockchain\n"
   ]
  },
  {
   "cell_type": "markdown",
   "metadata": {},
   "source": [
    "Blockchain is proposed as a solution to enhance the reliability of Federated Learning systems. It provides a decentralized and tamper-proof ledger that can be used to store the aggregated model and the updates from the clients."
   ]
  }
 ],
 "metadata": {
  "kernelspec": {
   "display_name": "3.13.4",
   "language": "python",
   "name": "python3"
  },
  "language_info": {
   "codemirror_mode": {
    "name": "ipython",
    "version": 3
   },
   "file_extension": ".py",
   "mimetype": "text/x-python",
   "name": "python",
   "nbconvert_exporter": "python",
   "pygments_lexer": "ipython3",
   "version": "3.13.4"
  }
 },
 "nbformat": 4,
 "nbformat_minor": 2
}
