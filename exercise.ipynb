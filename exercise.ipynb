{
 "cells": [
  {
   "cell_type": "markdown",
   "metadata": {},
   "source": [
    "Setup:"
   ]
  },
  {
   "cell_type": "code",
   "execution_count": 2,
   "metadata": {},
   "outputs": [],
   "source": [
    "from src.system_base import Component, Blockchain, FederatedLearning"
   ]
  },
  {
   "cell_type": "code",
   "execution_count": 3,
   "metadata": {},
   "outputs": [
    {
     "name": "stdout",
     "output_type": "stream",
     "text": [
      "Cosmos\n",
      "Attributes: not cool, cool\n",
      "Components:\n",
      "Consensus: Tendermint (not cool)\n",
      "Mempool: Basic Mempool (cool)\n",
      "\n"
     ]
    }
   ],
   "source": [
    "tendermint = Component(\"Tendermint\", [\"not cool\"])\n",
    "mempool = Component(\"Basic Mempool\", [\"cool\"])\n",
    "blockchain = Blockchain(\"Cosmos\",{ \n",
    "    \"Consensus\": tendermint, \n",
    "    \"Mempool\": mempool \n",
    "})\n",
    "blockchain.display()"
   ]
  }
 ],
 "metadata": {
  "kernelspec": {
   "display_name": "3.13.4",
   "language": "python",
   "name": "python3"
  },
  "language_info": {
   "codemirror_mode": {
    "name": "ipython",
    "version": 3
   },
   "file_extension": ".py",
   "mimetype": "text/x-python",
   "name": "python",
   "nbconvert_exporter": "python",
   "pygments_lexer": "ipython3",
   "version": "3.13.4"
  }
 },
 "nbformat": 4,
 "nbformat_minor": 2
}
