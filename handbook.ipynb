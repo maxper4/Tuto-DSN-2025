{
 "cells": [
  {
   "cell_type": "markdown",
   "metadata": {},
   "source": [
    "# Handbook\n",
    "## Decentralized Federated Learning: Enhancing Reliability with Blockchain"
   ]
  },
  {
   "cell_type": "markdown",
   "metadata": {},
   "source": [
    "### Introduction"
   ]
  },
  {
   "cell_type": "markdown",
   "metadata": {},
   "source": [
    "This handbook supplements the [same name tutorial of DSN 2025](https://dsn2025.github.io/cptutorials.html). \n",
    "It practices the concepts explained in python, but still at high-level using [mocks](https://en.wikipedia.org/wiki/Mock_object).\n",
    "\n",
    "This handbook is a [jupyter notebook](https://jupyter.org/). If you are not familiar, a Jupyter Notebook is an interactive environment for writing and running code. \n",
    "It combines code and text in a single document, making it ideal for exploratory programming and sharing results.\n",
    "You will only be required to run some pre-defined cells (with shift+enter when the cell is focused) and to write some piece of code in blank cells, just as if you were in your preferred IDE.\n"
   ]
  },
  {
   "cell_type": "markdown",
   "metadata": {},
   "source": [
    "We will follow the same structure as the tutorial.\n",
    "If you have any question, or found any mistake, feel free to tell us."
   ]
  },
  {
   "cell_type": "markdown",
   "metadata": {},
   "source": [
    "We are using \"Components\" and \"Systems\", combination of components, any of which having specific properties. Your goal is to combine the proper components to build systems with the desired properties."
   ]
  },
  {
   "cell_type": "markdown",
   "metadata": {},
   "source": [
    "To setup the python project, please run:"
   ]
  },
  {
   "cell_type": "code",
   "execution_count": 2,
   "metadata": {},
   "outputs": [],
   "source": [
    "# %load \"https://raw.githubusercontent.com/maxper4/Tuto-DSN-2025/refs/heads/master/src/system_base.py\"\n",
    "class SystemBase:\n",
    "    required_components_names = set([])\n",
    "    intrinsic_properties = []\n",
    "\n",
    "    def __init__(self, name, components):\n",
    "        if not isinstance(name, str):\n",
    "            raise TypeError(\"Name should be a string\")\n",
    "        self.name = name\n",
    "        if not isinstance(components, dict):\n",
    "            raise TypeError(\"Components should be a dictionary\")\n",
    "        if self.required_components_names != components.keys():\n",
    "            raise ValueError(f\"Components for {self.name} should be: {self.required_components_names}\")\n",
    "        if not all(isinstance(c, Component) or isinstance(c, SystemBase) for c in components.values()):\n",
    "            raise TypeError(\"All components should be instances of Component\")\n",
    "        \n",
    "        self.components = components\n",
    "        self.properties = self._merge_properties()\n",
    "\n",
    "    def refresh(self):\n",
    "        self.properties = self._merge_properties()\n",
    "\n",
    "    def _merge_properties(self):\n",
    "        all = list(set([a for _,c in self.components.items() for a in c.properties] + self.intrinsic_properties))\n",
    "        if \"property 1\" in all and \"property 2\" in all:\n",
    "            all.remove(\"property 1\")\n",
    "            all.remove(\"property 2\")\n",
    "            all.append(\"combination property 1 and 2\")\n",
    "        if \"untrusted\" in all and self.__class__.__name__ == \"FederatedLearning\":\n",
    "            all.append(\"unscalable\")\n",
    "        if \"corrupted\" in all and \"privacy-preserving\" in all:\n",
    "            all.remove(\"privacy-preserving\")\n",
    "            all.remove(\"corrupted\")\n",
    "            all.append(\"privacy-leaking\")\n",
    "        if \"not cool\" in all and \"cool\" in all:\n",
    "            all.remove(\"not cool\")\n",
    "        if \"untrusted\" in all and \"trusted\" in all:\n",
    "            all.remove(\"trusted\")\n",
    "        if \"centralized\" in all and \"decentralized\" in all:\n",
    "            all.remove(\"decentralized\")\n",
    "        if \"data-available\" in all and \"unavailable\" in all:\n",
    "            all.remove(\"unavailable\")\n",
    "            all.remove(\"data-available\")\n",
    "            all.append(\"available\")\n",
    "        return all\n",
    "    \n",
    "    def display(self):\n",
    "        print(f\"{self.name}\\nProperties: {', '.join(self.properties)}\")\n",
    "        print(\"Components:\")\n",
    "        for n, component in self.components.items():\n",
    "            print(f\"{n}: {component.info()}\")\n",
    "        print()\n",
    "\n",
    "    def info(self):\n",
    "        return f\"{self.name} ({', '.join(self.properties)})\"\n",
    "\n",
    "class Component():\n",
    "    def __init__(self, name, properties):\n",
    "        if not isinstance(name, str):\n",
    "            raise TypeError(\"Name should be a string\")\n",
    "        self.name = name\n",
    "        if not isinstance(properties, list):\n",
    "            raise TypeError(\"Properties should be a list\")\n",
    "        if not all(isinstance(attr, str) for attr in properties):\n",
    "            raise TypeError(\"All properties should be strings\")\n",
    "        if properties == None:\n",
    "            raise ValueError(\"Properties cannot be empty\")\n",
    "        self.properties = properties\n",
    "\n",
    "    def info(self):\n",
    "        return f\"{self.name} ({', '.join(self.properties)})\"\n",
    "\n",
    "class ExampleSystem(SystemBase):\n",
    "    required_components_names = set([\"Component 1\", \"Component 2\"])\n",
    "    intrinsic_properties = [\"intrinsic property\"]\n",
    "\n",
    "class Blockchain(SystemBase):\n",
    "    required_components_names = set([\"Consensus\", \"Transactions\"]) \n",
    "    intrinsic_properties = [\"trusted\"]\n",
    "\n",
    "class FederatedLearning(SystemBase):\n",
    "    required_components_names = set([\"Aggregation\", \"Models Storage\"])\n",
    "    intrinsic_properties = [\"privacy-preserving\"]\n",
    "\n",
    "class DistributedStorage(Component):\n",
    "    def __init__(self):\n",
    "        super().__init__(\"Distributed Storage\", [\"scalable\", \"unavailable\"])\n",
    "\n",
    "class CentralizedServer(Component):\n",
    "    def __init__(self):\n",
    "        super().__init__(\"Centralized Server\", [\"untrusted\"])\n",
    "        \n",
    "    def corrupt(self):\n",
    "        self.properties.append(\"corrupted\")\n",
    "        print(\"Centralized Server has been corrupted! It will now try to mislead the system.\")"
   ]
  },
  {
   "cell_type": "code",
   "execution_count": 3,
   "metadata": {},
   "outputs": [],
   "source": [
    "empty = Component(\"Empty\", [])"
   ]
  },
  {
   "cell_type": "markdown",
   "metadata": {},
   "source": [
    "We show in the next cell an example component and combine it in a system."
   ]
  },
  {
   "cell_type": "code",
   "execution_count": 4,
   "metadata": {},
   "outputs": [
    {
     "name": "stdout",
     "output_type": "stream",
     "text": [
      "Example System\n",
      "Properties: intrinsic property, combination property 1 and 2\n",
      "Components:\n",
      "Component 1: Example Name (property 1, property 2)\n",
      "Component 2: Example Name (property 1, property 2)\n",
      "\n"
     ]
    }
   ],
   "source": [
    "example_component = Component(\"Example Name\", [\"property 1\", \"property 2\"])\n",
    "example_system = ExampleSystem(\"Example System\", {\n",
    "        \"Component 1\": example_component,\n",
    "        \"Component 2\": example_component\n",
    "    })\n",
    "example_system.display()"
   ]
  },
  {
   "cell_type": "markdown",
   "metadata": {},
   "source": [
    "### 1. Federated Learning\n"
   ]
  },
  {
   "cell_type": "markdown",
   "metadata": {},
   "source": [
    "#### Properties"
   ]
  },
  {
   "cell_type": "markdown",
   "metadata": {},
   "source": [
    "We start by building a basic Federated Learning system using a centralized server component. As we explained in the tutorial, we cannot trust it."
   ]
  },
  {
   "cell_type": "code",
   "execution_count": 5,
   "metadata": {},
   "outputs": [
    {
     "data": {
      "text/plain": [
       "'Centralized Server (untrusted)'"
      ]
     },
     "execution_count": 5,
     "metadata": {},
     "output_type": "execute_result"
    }
   ],
   "source": [
    "from src.system_base import FederatedLearning, CentralizedServer\n",
    "\n",
    "centralized_server = CentralizedServer()\n",
    "centralized_server.info()"
   ]
  },
  {
   "cell_type": "markdown",
   "metadata": {},
   "source": [
    "A Federated Learning system is composed of two main parts: the aggregation, combining the models from the clients, and the storage of the aggregated model.\n",
    "We first use a centralized server component to aggregate the models from the clients and store the aggregated model. Please replace the empty component by the adequate one in the next cell."
   ]
  },
  {
   "cell_type": "code",
   "execution_count": 6,
   "metadata": {},
   "outputs": [
    {
     "name": "stdout",
     "output_type": "stream",
     "text": [
      "Centralized Federated Learning\n",
      "Properties: untrusted, privacy-preserving, unscalable\n",
      "Components:\n",
      "Aggregation: Centralized Server (untrusted)\n",
      "Models Storage: Centralized Server (untrusted)\n",
      "\n"
     ]
    }
   ],
   "source": [
    "centralized_federated_learning = FederatedLearning(\"Centralized Federated Learning\", {\n",
    "        \"Aggregation\": centralized_server,\n",
    "        \"Models Storage\": centralized_server\n",
    "    })\n",
    "centralized_federated_learning.display()"
   ]
  },
  {
   "cell_type": "markdown",
   "metadata": {},
   "source": [
    "You should obtain the following properties: \"untrusted\", \"privacy-preserving\" and \"unscalable\"."
   ]
  },
  {
   "cell_type": "markdown",
   "metadata": {},
   "source": [
    "#### Implementation"
   ]
  },
  {
   "cell_type": "markdown",
   "metadata": {},
   "source": [
    "Let's have a closer look at how it really works in practice.\n",
    "In the next cell, we will code the client side of a step of Federated Learning.\n",
    "You are provided with some (private) data, a function train producing a new model, and a function send communicating with the server.\n"
   ]
  },
  {
   "cell_type": "code",
   "execution_count": 7,
   "metadata": {},
   "outputs": [],
   "source": [
    "def client_federated_learning(data, train, send):\n",
    "    model = train(data)\n",
    "    send(model)"
   ]
  },
  {
   "cell_type": "markdown",
   "metadata": {},
   "source": [
    "Now, we will implement the server side of a step of Federated Learning. You are provided with a function receive to get the models from the clients, a function to send to the clients and a function aggregate to combine them into a new model."
   ]
  },
  {
   "cell_type": "code",
   "execution_count": 8,
   "metadata": {},
   "outputs": [],
   "source": [
    "def server_federated_learning(aggregate, receive, send):\n",
    "    \"\""
   ]
  },
  {
   "cell_type": "markdown",
   "metadata": {},
   "source": [
    "#### Limitations"
   ]
  },
  {
   "cell_type": "markdown",
   "metadata": {},
   "source": [
    "We imagine that we have a full implementation of a Federated Learning system using a centralized server. \n",
    "Now let's see what happens if the centralized server is compromised."
   ]
  },
  {
   "cell_type": "code",
   "execution_count": 18,
   "metadata": {},
   "outputs": [
    {
     "name": "stdout",
     "output_type": "stream",
     "text": [
      "Centralized Server has been corrupted! It will now try to mislead the system.\n"
     ]
    }
   ],
   "source": [
    "centralized_server.corrupt()"
   ]
  },
  {
   "cell_type": "markdown",
   "metadata": {},
   "source": [
    "The repercussions of a compromised server are severe. The server can manipulate the aggregated model, leading to biased or malicious outcomes. This is a significant risk in Federated Learning systems, as it undermines the trustworthiness of the entire system."
   ]
  },
  {
   "cell_type": "code",
   "execution_count": 19,
   "metadata": {},
   "outputs": [
    {
     "name": "stdout",
     "output_type": "stream",
     "text": [
      "Centralized Federated Learning\n",
      "Properties: untrusted, unscalable, privacy-leaking\n",
      "Components:\n",
      "Aggregation: Centralized Server (untrusted, corrupted)\n",
      "Models Storage: Centralized Server (untrusted, corrupted)\n",
      "\n"
     ]
    }
   ],
   "source": [
    "centralized_federated_learning.refresh()\n",
    "centralized_federated_learning.display() # privacy-leaking -> tampered model"
   ]
  },
  {
   "cell_type": "markdown",
   "metadata": {},
   "source": [
    "### 2. Blockchain\n"
   ]
  },
  {
   "cell_type": "markdown",
   "metadata": {},
   "source": [
    "#### Properties"
   ]
  },
  {
   "cell_type": "markdown",
   "metadata": {},
   "source": [
    "Blockchain is proposed as a solution to enhance the reliability of Federated Learning systems. It provides a decentralized and tamper-proof ledger that can be used to store the aggregated model and the updates from the clients. Let's see its properties."
   ]
  },
  {
   "cell_type": "code",
   "execution_count": 11,
   "metadata": {},
   "outputs": [
    {
     "name": "stdout",
     "output_type": "stream",
     "text": [
      "Blockchain Example\n",
      "Properties: trusted\n",
      "Components:\n",
      "Consensus: Empty ()\n",
      "Transactions: Empty ()\n",
      "\n"
     ]
    }
   ],
   "source": [
    "blockchain = Blockchain(\"Blockchain Example\", {\n",
    "        \"Consensus\": empty,\n",
    "        \"Transactions\": empty\n",
    "    })\n",
    "blockchain.display()"
   ]
  },
  {
   "cell_type": "markdown",
   "metadata": {},
   "source": []
  },
  {
   "cell_type": "markdown",
   "metadata": {},
   "source": [
    "#### Implementation"
   ]
  },
  {
   "cell_type": "markdown",
   "metadata": {},
   "source": [
    "#### Limitations\n"
   ]
  },
  {
   "cell_type": "markdown",
   "metadata": {},
   "source": [
    "### 3. Blockchain based Federated Learning"
   ]
  },
  {
   "cell_type": "markdown",
   "metadata": {},
   "source": [
    "#### Properties\n",
    "We replace the centralized server with a blockchain. This decentralized ledger will store the aggregated model and the updates from the clients in a decentralized manner, enhancing the reliability of the system."
   ]
  },
  {
   "cell_type": "markdown",
   "metadata": {},
   "source": [
    "Exercise 1 slides"
   ]
  },
  {
   "cell_type": "markdown",
   "metadata": {},
   "source": [
    "#### Limitations"
   ]
  },
  {
   "cell_type": "markdown",
   "metadata": {},
   "source": [
    "### 4. Off-chain Data"
   ]
  },
  {
   "cell_type": "markdown",
   "metadata": {},
   "source": [
    "The blockchain based Federated Learning solution is not enough to solve all the problems. This design is not scalable, as the blockchain is not designed to store large amounts of data.\n",
    "We need to store the data off-chain, while still ensuring that the data is tamper-proof and can be trusted."
   ]
  },
  {
   "cell_type": "markdown",
   "metadata": {},
   "source": [
    "#### Properties"
   ]
  },
  {
   "cell_type": "markdown",
   "metadata": {},
   "source": [
    "We will use a decentralized storage system to store the data off-chain. This system will be used to store the data in a tamper-proof way, while still allowing the clients to access the data."
   ]
  },
  {
   "cell_type": "code",
   "execution_count": 12,
   "metadata": {},
   "outputs": [
    {
     "data": {
      "text/plain": [
       "'Distributed Storage (scalable, unavailable)'"
      ]
     },
     "execution_count": 12,
     "metadata": {},
     "output_type": "execute_result"
    }
   ],
   "source": [
    "distributed_storage = DistributedStorage()\n",
    "distributed_storage.info()"
   ]
  },
  {
   "cell_type": "markdown",
   "metadata": {},
   "source": [
    "This system is unavailable, as we cannot guarantee that the data stored is kept by a server that is alive.\n",
    "This is problematic when combined with a blockchain, because clients may never receive the new model they need to train.\n",
    "Try to see what happens when you use a blockchain based Federated Learning system with an off-chain data storage system."
   ]
  },
  {
   "cell_type": "code",
   "execution_count": 13,
   "metadata": {},
   "outputs": [
    {
     "ename": "TypeError",
     "evalue": "All components should be instances of Component",
     "output_type": "error",
     "traceback": [
      "\u001b[31m---------------------------------------------------------------------------\u001b[39m",
      "\u001b[31mTypeError\u001b[39m                                 Traceback (most recent call last)",
      "\u001b[36mCell\u001b[39m\u001b[36m \u001b[39m\u001b[32mIn[13]\u001b[39m\u001b[32m, line 1\u001b[39m\n\u001b[32m----> \u001b[39m\u001b[32m1\u001b[39m external_storage_fl = \u001b[43mFederatedLearning\u001b[49m\u001b[43m(\u001b[49m\u001b[33;43m\"\u001b[39;49m\u001b[33;43mExternal Storage Federated Learning\u001b[39;49m\u001b[33;43m\"\u001b[39;49m\u001b[43m,\u001b[49m\u001b[43m \u001b[49m\u001b[43m{\u001b[49m\n\u001b[32m      2\u001b[39m \u001b[43m        \u001b[49m\u001b[33;43m\"\u001b[39;49m\u001b[33;43mAggregation\u001b[39;49m\u001b[33;43m\"\u001b[39;49m\u001b[43m:\u001b[49m\u001b[43m \u001b[49m\u001b[43mempty\u001b[49m\u001b[43m,\u001b[49m\n\u001b[32m      3\u001b[39m \u001b[43m        \u001b[49m\u001b[33;43m\"\u001b[39;49m\u001b[33;43mModels Storage\u001b[39;49m\u001b[33;43m\"\u001b[39;49m\u001b[43m:\u001b[49m\u001b[43m \u001b[49m\u001b[43mempty\u001b[49m\n\u001b[32m      4\u001b[39m \u001b[43m    \u001b[49m\u001b[43m}\u001b[49m\u001b[43m)\u001b[49m\n\u001b[32m      5\u001b[39m external_storage_fl.display()\n",
      "\u001b[36mFile \u001b[39m\u001b[32m~/tutoDSN/src/system_base.py:14\u001b[39m, in \u001b[36mSystemBase.__init__\u001b[39m\u001b[34m(self, name, components)\u001b[39m\n\u001b[32m     12\u001b[39m     \u001b[38;5;28;01mraise\u001b[39;00m \u001b[38;5;167;01mValueError\u001b[39;00m(\u001b[33mf\u001b[39m\u001b[33m\"\u001b[39m\u001b[33mComponents for \u001b[39m\u001b[38;5;132;01m{\u001b[39;00m\u001b[38;5;28mself\u001b[39m.name\u001b[38;5;132;01m}\u001b[39;00m\u001b[33m should be: \u001b[39m\u001b[38;5;132;01m{\u001b[39;00m\u001b[38;5;28mself\u001b[39m.required_components_names\u001b[38;5;132;01m}\u001b[39;00m\u001b[33m\"\u001b[39m)\n\u001b[32m     13\u001b[39m \u001b[38;5;28;01mif\u001b[39;00m \u001b[38;5;129;01mnot\u001b[39;00m \u001b[38;5;28mall\u001b[39m(\u001b[38;5;28misinstance\u001b[39m(c, Component) \u001b[38;5;129;01mor\u001b[39;00m \u001b[38;5;28misinstance\u001b[39m(c, SystemBase) \u001b[38;5;28;01mfor\u001b[39;00m c \u001b[38;5;129;01min\u001b[39;00m components.values()):\n\u001b[32m---> \u001b[39m\u001b[32m14\u001b[39m     \u001b[38;5;28;01mraise\u001b[39;00m \u001b[38;5;167;01mTypeError\u001b[39;00m(\u001b[33m\"\u001b[39m\u001b[33mAll components should be instances of Component\u001b[39m\u001b[33m\"\u001b[39m)\n\u001b[32m     16\u001b[39m \u001b[38;5;28mself\u001b[39m.components = components\n\u001b[32m     17\u001b[39m \u001b[38;5;28mself\u001b[39m.properties = \u001b[38;5;28mself\u001b[39m._merge_properties()\n",
      "\u001b[31mTypeError\u001b[39m: All components should be instances of Component"
     ]
    }
   ],
   "source": [
    "external_storage_fl = FederatedLearning(\"External Storage Federated Learning\", {\n",
    "        \"Aggregation\": empty,\n",
    "        \"Models Storage\": empty\n",
    "    })\n",
    "external_storage_fl.display()"
   ]
  },
  {
   "cell_type": "markdown",
   "metadata": {},
   "source": [
    "We can provide the missing properties using availability and integrity proofs (PoA&I). These proofs are stored on the blockchain."
   ]
  },
  {
   "cell_type": "code",
   "execution_count": 57,
   "metadata": {},
   "outputs": [],
   "source": [
    "poai = Component(\"POAI\", [\"data-available\"]) # POAI -> Certificate"
   ]
  },
  {
   "cell_type": "markdown",
   "metadata": {},
   "source": [
    "Now, you need to combine these proofs, the off-chain data storage system, and the blockchain based Federated Learning system to build a complete system that is reliable, scalable, and tamper-proof."
   ]
  },
  {
   "cell_type": "code",
   "execution_count": 58,
   "metadata": {},
   "outputs": [
    {
     "name": "stdout",
     "output_type": "stream",
     "text": [
      "POAI Blockchain\n",
      "Properties: data-available, trusted\n",
      "Components:\n",
      "Consensus: Empty ()\n",
      "Transactions: POAI (data-available)\n",
      "\n",
      "POAI Federated Learning\n",
      "Properties: privacy-preserving\n",
      "Components:\n",
      "Aggregation: Empty ()\n",
      "Models Storage: Empty ()\n",
      "\n"
     ]
    }
   ],
   "source": [
    "poai_blockchain = Blockchain(\"POAI Blockchain\", {\n",
    "        \"Consensus\": empty, # leave empty\n",
    "        \"Transactions\": poai\n",
    "    })\n",
    "poai_blockchain.display()\n",
    "\n",
    "poai_fl = FederatedLearning(\"POAI Federated Learning\", {\n",
    "        \"Aggregation\": empty,\n",
    "        \"Models Storage\": empty\n",
    "    })\n",
    "poai_fl.display()"
   ]
  },
  {
   "cell_type": "markdown",
   "metadata": {},
   "source": [
    "#### Implementation"
   ]
  },
  {
   "cell_type": "markdown",
   "metadata": {},
   "source": [
    "Let's have a look at how there proofs are implemented in practice. They certify that enough correct servers are storing the data and that the data is not tampered with. "
   ]
  },
  {
   "cell_type": "markdown",
   "metadata": {},
   "source": [
    "We split the implementations in two parts: retreive_data, when a server gets the data from the off-chain storage system, and make_poai, when a server creates the proof of availability and integrity. f is a bound on the number of server that can crash, so if we receive a signature from at least f+1 servers, we can be sure that the data is available and not tampered with..."
   ]
  },
  {
   "cell_type": "code",
   "execution_count": 59,
   "metadata": {},
   "outputs": [],
   "source": [
    "def retreive_data(data, hash, sign, send):\n",
    "    return \"TODO\"\n",
    "\n",
    "def make_poai(data, hash, receive, f):\n",
    "    return \"TODO\""
   ]
  },
  {
   "cell_type": "markdown",
   "metadata": {},
   "source": [
    "### 5. Final Solution"
   ]
  }
 ],
 "metadata": {
  "kernelspec": {
   "display_name": "3.13.4",
   "language": "python",
   "name": "python3"
  },
  "language_info": {
   "codemirror_mode": {
    "name": "ipython",
    "version": 3
   },
   "file_extension": ".py",
   "mimetype": "text/x-python",
   "name": "python",
   "nbconvert_exporter": "python",
   "pygments_lexer": "ipython3",
   "version": "3.13.4"
  }
 },
 "nbformat": 4,
 "nbformat_minor": 2
}
