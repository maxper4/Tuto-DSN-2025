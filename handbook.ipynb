{
 "cells": [
  {
   "cell_type": "markdown",
   "metadata": {},
   "source": [
    "# Handbook\n",
    "## Decentralized Federated Learning: Enhancing Reliability with Blockchain"
   ]
  },
  {
   "cell_type": "markdown",
   "metadata": {},
   "source": [
    "### Introduction"
   ]
  },
  {
   "cell_type": "markdown",
   "metadata": {},
   "source": [
    "This handbook supplements the [same name tutorial of DSN 2025](https://dsn2025.github.io/cptutorials.html). \n",
    "It practices the concepts explained in python, but still at high-level using [mocks](https://en.wikipedia.org/wiki/Mock_object).\n",
    "\n",
    "This handbook is a [jupyter notebook](https://jupyter.org/). If you are not familiar, a Jupyter Notebook is an interactive environment for writing and running code. \n",
    "It combines code and text in a single document, making it ideal for exploratory programming and sharing results.\n",
    "You will only be required to run some pre-defined cells (with shift+enter when the cell is focused) and to write some piece of code in blank cells, just as if you were in your preferred IDE.\n"
   ]
  },
  {
   "cell_type": "markdown",
   "metadata": {},
   "source": [
    "We will follow the same structure as the tutorial.\n",
    "If you have any question, or found any mistake, feel free to tell us."
   ]
  },
  {
   "cell_type": "markdown",
   "metadata": {},
   "source": [
    "We are using \"Components\" and \"Systems\", combination of components, any of which having specific properties. Your goal is to combine the proper components to build systems with the desired properties."
   ]
  },
  {
   "cell_type": "markdown",
   "metadata": {},
   "source": [
    "To setup the python project, please run:"
   ]
  },
  {
   "cell_type": "code",
   "execution_count": 52,
   "metadata": {},
   "outputs": [],
   "source": [
    "%load \"https://raw.githubusercontent.com/maxper4/Tuto-DSN-2025/refs/heads/master/src/system_base.py\""
   ]
  },
  {
   "cell_type": "code",
   "execution_count": 53,
   "metadata": {},
   "outputs": [],
   "source": [
    "empty = Component(\"Empty\", [])"
   ]
  },
  {
   "cell_type": "markdown",
   "metadata": {},
   "source": [
    "We show in the next cell an example component and combine it in a system."
   ]
  },
  {
   "cell_type": "code",
   "execution_count": 54,
   "metadata": {},
   "outputs": [
    {
     "ename": "KeyError",
     "evalue": "'Models Storage'",
     "output_type": "error",
     "traceback": [
      "\u001b[31m---------------------------------------------------------------------------\u001b[39m",
      "\u001b[31mKeyError\u001b[39m                                  Traceback (most recent call last)",
      "\u001b[36mCell\u001b[39m\u001b[36m \u001b[39m\u001b[32mIn[54]\u001b[39m\u001b[32m, line 2\u001b[39m\n\u001b[32m      1\u001b[39m example_component = Component(\u001b[33m\"\u001b[39m\u001b[33mExample Name\u001b[39m\u001b[33m\"\u001b[39m, [\u001b[33m\"\u001b[39m\u001b[33mproperty 1\u001b[39m\u001b[33m\"\u001b[39m, \u001b[33m\"\u001b[39m\u001b[33mproperty 2\u001b[39m\u001b[33m\"\u001b[39m])\n\u001b[32m----> \u001b[39m\u001b[32m2\u001b[39m example_system = \u001b[43mExampleSystem\u001b[49m\u001b[43m(\u001b[49m\u001b[33;43m\"\u001b[39;49m\u001b[33;43mExample System\u001b[39;49m\u001b[33;43m\"\u001b[39;49m\u001b[43m,\u001b[49m\u001b[43m \u001b[49m\u001b[43m{\u001b[49m\n\u001b[32m      3\u001b[39m \u001b[43m        \u001b[49m\u001b[33;43m\"\u001b[39;49m\u001b[33;43mComponent 1\u001b[39;49m\u001b[33;43m\"\u001b[39;49m\u001b[43m:\u001b[49m\u001b[43m \u001b[49m\u001b[43mexample_component\u001b[49m\u001b[43m,\u001b[49m\n\u001b[32m      4\u001b[39m \u001b[43m        \u001b[49m\u001b[33;43m\"\u001b[39;49m\u001b[33;43mComponent 2\u001b[39;49m\u001b[33;43m\"\u001b[39;49m\u001b[43m:\u001b[49m\u001b[43m \u001b[49m\u001b[43mexample_component\u001b[49m\n\u001b[32m      5\u001b[39m \u001b[43m    \u001b[49m\u001b[43m}\u001b[49m\u001b[43m)\u001b[49m\n\u001b[32m      6\u001b[39m example_system.display()\n",
      "\u001b[36mCell\u001b[39m\u001b[36m \u001b[39m\u001b[32mIn[52]\u001b[39m\u001b[32m, line 18\u001b[39m, in \u001b[36mSystemBase.__init__\u001b[39m\u001b[34m(self, name, components)\u001b[39m\n\u001b[32m     15\u001b[39m     \u001b[38;5;28;01mraise\u001b[39;00m \u001b[38;5;167;01mTypeError\u001b[39;00m(\u001b[33m\"\u001b[39m\u001b[33mAll components should be instances of Component\u001b[39m\u001b[33m\"\u001b[39m)\n\u001b[32m     17\u001b[39m \u001b[38;5;28mself\u001b[39m.components = components\n\u001b[32m---> \u001b[39m\u001b[32m18\u001b[39m \u001b[38;5;28mself\u001b[39m.properties = \u001b[38;5;28;43mself\u001b[39;49m\u001b[43m.\u001b[49m\u001b[43m_merge_properties\u001b[49m\u001b[43m(\u001b[49m\u001b[43m)\u001b[49m\n",
      "\u001b[36mCell\u001b[39m\u001b[36m \u001b[39m\u001b[32mIn[52]\u001b[39m\u001b[32m, line 33\u001b[39m, in \u001b[36mSystemBase._merge_properties\u001b[39m\u001b[34m(self)\u001b[39m\n\u001b[32m     31\u001b[39m \u001b[38;5;28;01mif\u001b[39;00m \u001b[33m\"\u001b[39m\u001b[33muntrusted\u001b[39m\u001b[33m\"\u001b[39m \u001b[38;5;129;01min\u001b[39;00m \u001b[38;5;28mall\u001b[39m \u001b[38;5;129;01mand\u001b[39;00m \u001b[38;5;28mself\u001b[39m.components[\u001b[33m\"\u001b[39m\u001b[33mAggregation\u001b[39m\u001b[33m\"\u001b[39m] \u001b[38;5;129;01mand\u001b[39;00m \u001b[33m\"\u001b[39m\u001b[33mtrusted\u001b[39m\u001b[33m\"\u001b[39m \u001b[38;5;129;01min\u001b[39;00m \u001b[38;5;28mself\u001b[39m.components[\u001b[33m\"\u001b[39m\u001b[33mAggregation\u001b[39m\u001b[33m\"\u001b[39m].properties:\n\u001b[32m     32\u001b[39m     \u001b[38;5;28mall\u001b[39m.remove(\u001b[33m\"\u001b[39m\u001b[33muntrusted\u001b[39m\u001b[33m\"\u001b[39m)\n\u001b[32m---> \u001b[39m\u001b[32m33\u001b[39m \u001b[38;5;28;01mif\u001b[39;00m \u001b[38;5;28;43mself\u001b[39;49m\u001b[43m.\u001b[49m\u001b[43mcomponents\u001b[49m\u001b[43m[\u001b[49m\u001b[33;43m\"\u001b[39;49m\u001b[33;43mModels Storage\u001b[39;49m\u001b[33;43m\"\u001b[39;49m\u001b[43m]\u001b[49m \u001b[38;5;129;01mand\u001b[39;00m \u001b[33m\"\u001b[39m\u001b[33mtrusted\u001b[39m\u001b[33m\"\u001b[39m \u001b[38;5;129;01min\u001b[39;00m \u001b[38;5;28mself\u001b[39m.components[\u001b[33m\"\u001b[39m\u001b[33mModels Storage\u001b[39m\u001b[33m\"\u001b[39m].properties:\n\u001b[32m     34\u001b[39m     \u001b[38;5;28mall\u001b[39m.add(\u001b[33m\"\u001b[39m\u001b[33mheavy-storage\u001b[39m\u001b[33m\"\u001b[39m)\n\u001b[32m     35\u001b[39m \u001b[38;5;28;01mif\u001b[39;00m \u001b[33m\"\u001b[39m\u001b[33mcorrupted\u001b[39m\u001b[33m\"\u001b[39m \u001b[38;5;129;01min\u001b[39;00m \u001b[38;5;28mall\u001b[39m \u001b[38;5;129;01mand\u001b[39;00m \u001b[33m\"\u001b[39m\u001b[33mprivacy-preserving\u001b[39m\u001b[33m\"\u001b[39m \u001b[38;5;129;01min\u001b[39;00m \u001b[38;5;28mall\u001b[39m:\n",
      "\u001b[31mKeyError\u001b[39m: 'Models Storage'"
     ]
    }
   ],
   "source": [
    "example_component = Component(\"Example Name\", [\"property 1\", \"property 2\"])\n",
    "example_system = ExampleSystem(\"Example System\", {\n",
    "        \"Component 1\": example_component,\n",
    "        \"Component 2\": example_component\n",
    "    })\n",
    "example_system.display()"
   ]
  },
  {
   "cell_type": "markdown",
   "metadata": {},
   "source": [
    "### 1. Federated Learning\n"
   ]
  },
  {
   "cell_type": "markdown",
   "metadata": {},
   "source": [
    "#### Properties"
   ]
  },
  {
   "cell_type": "markdown",
   "metadata": {},
   "source": [
    "We start by building a basic Federated Learning system using a centralized server component. As we explained in the tutorial, we cannot trust it."
   ]
  },
  {
   "cell_type": "code",
   "execution_count": 30,
   "metadata": {},
   "outputs": [
    {
     "data": {
      "text/plain": [
       "'Centralized Server (untrusted)'"
      ]
     },
     "execution_count": 30,
     "metadata": {},
     "output_type": "execute_result"
    }
   ],
   "source": [
    "centralized_server = CentralizedServer()\n",
    "centralized_server.info()"
   ]
  },
  {
   "cell_type": "markdown",
   "metadata": {},
   "source": [
    "A Federated Learning system is composed of two main parts: the aggregation, combining the models from the clients, and the storage of the aggregated model.\n",
    "We first use a centralized server component to aggregate the models from the clients and store the aggregated model. Please replace the empty component by the adequate one in the next cell."
   ]
  },
  {
   "cell_type": "code",
   "execution_count": 31,
   "metadata": {},
   "outputs": [
    {
     "name": "stdout",
     "output_type": "stream",
     "text": [
      "Centralized Federated Learning\n",
      "Properties: untrusted, privacy-preserving, unscalable\n",
      "Components:\n",
      "Aggregation: Centralized Server (untrusted)\n",
      "Models Storage: Centralized Server (untrusted)\n",
      "\n"
     ]
    }
   ],
   "source": [
    "centralized_federated_learning = FederatedLearning(\"Centralized Federated Learning\", {\n",
    "        \"Aggregation\": empty,\n",
    "        \"Models Storage\": empty\n",
    "    })\n",
    "centralized_federated_learning.display()"
   ]
  },
  {
   "cell_type": "markdown",
   "metadata": {},
   "source": [
    "You should obtain the following properties: \"untrusted\", \"privacy-preserving\" and \"unscalable\"."
   ]
  },
  {
   "cell_type": "markdown",
   "metadata": {},
   "source": [
    "#### Implementation"
   ]
  },
  {
   "cell_type": "markdown",
   "metadata": {},
   "source": [
    "Let's have a closer look at how it really works in practice.\n",
    "In the next cell, we will code the client side of a step of Federated Learning.\n",
    "You are provided with some (private) data, a function train producing a new model, and a function send communicating with the server.\n"
   ]
  },
  {
   "cell_type": "code",
   "execution_count": 32,
   "metadata": {},
   "outputs": [],
   "source": [
    "def client_federated_learning(data, train, send):\n",
    "    model = train(data)\n",
    "    send(model)"
   ]
  },
  {
   "cell_type": "markdown",
   "metadata": {},
   "source": [
    "Now, we will implement the server side of a step of Federated Learning. You are provided with a function receive to get the models from the clients, a function to send to the clients and a function aggregate to combine them into a new model."
   ]
  },
  {
   "cell_type": "code",
   "execution_count": 33,
   "metadata": {},
   "outputs": [],
   "source": [
    "def server_federated_learning(aggregate, receive, send):\n",
    "    \"\""
   ]
  },
  {
   "cell_type": "markdown",
   "metadata": {},
   "source": [
    "#### Limitations"
   ]
  },
  {
   "cell_type": "markdown",
   "metadata": {},
   "source": [
    "We imagine that we have a full implementation of a Federated Learning system using a centralized server. \n",
    "Now let's see what happens if the centralized server is compromised."
   ]
  },
  {
   "cell_type": "code",
   "execution_count": 34,
   "metadata": {},
   "outputs": [
    {
     "name": "stdout",
     "output_type": "stream",
     "text": [
      "Centralized Server has been corrupted! It will now try to mislead the system.\n"
     ]
    }
   ],
   "source": [
    "centralized_server.corrupt()"
   ]
  },
  {
   "cell_type": "markdown",
   "metadata": {},
   "source": [
    "The repercussions of a compromised server are severe. The server can manipulate the aggregated model, leading to biased or malicious outcomes. This is a significant risk in Federated Learning systems, as it undermines the trustworthiness of the entire system."
   ]
  },
  {
   "cell_type": "code",
   "execution_count": 35,
   "metadata": {},
   "outputs": [
    {
     "name": "stdout",
     "output_type": "stream",
     "text": [
      "Centralized Federated Learning\n",
      "Properties: untrusted, unscalable, privacy-leaking\n",
      "Components:\n",
      "Aggregation: Centralized Server (untrusted, corrupted)\n",
      "Models Storage: Centralized Server (untrusted, corrupted)\n",
      "\n"
     ]
    }
   ],
   "source": [
    "centralized_federated_learning.refresh()\n",
    "centralized_federated_learning.display()"
   ]
  },
  {
   "cell_type": "markdown",
   "metadata": {},
   "source": [
    "### 2. Blockchain\n"
   ]
  },
  {
   "cell_type": "markdown",
   "metadata": {},
   "source": [
    "#### Properties"
   ]
  },
  {
   "cell_type": "markdown",
   "metadata": {},
   "source": [
    "Blockchain is proposed as a solution to enhance the reliability of Federated Learning systems. It provides a decentralized and tamper-proof ledger that can be used to store the aggregated model and the updates from the clients. Let's see its properties."
   ]
  },
  {
   "cell_type": "code",
   "execution_count": 36,
   "metadata": {},
   "outputs": [
    {
     "name": "stdout",
     "output_type": "stream",
     "text": [
      "Blockchain Example\n",
      "Properties: trusted\n",
      "Components:\n",
      "Consensus: Empty ()\n",
      "Transactions: Empty ()\n",
      "\n"
     ]
    }
   ],
   "source": [
    "blockchain = Blockchain(\"Blockchain Example\", {\n",
    "        \"Consensus\": empty,\n",
    "        \"Transactions\": empty\n",
    "    })\n",
    "blockchain.display()"
   ]
  },
  {
   "cell_type": "markdown",
   "metadata": {},
   "source": []
  },
  {
   "cell_type": "markdown",
   "metadata": {},
   "source": [
    "#### Implementation"
   ]
  },
  {
   "cell_type": "markdown",
   "metadata": {},
   "source": [
    "#### Limitations\n"
   ]
  },
  {
   "cell_type": "markdown",
   "metadata": {},
   "source": [
    "### 3. Blockchain based Federated Learning"
   ]
  },
  {
   "cell_type": "markdown",
   "metadata": {},
   "source": [
    "#### Properties\n",
    "In your opinion, how can we use blockchain to enhance the reliability of Federated Learning systems? \n",
    "Give it a try in the next cell, by combining the components you have seen so far."
   ]
  },
  {
   "cell_type": "code",
   "execution_count": 56,
   "metadata": {},
   "outputs": [
    {
     "ename": "KeyError",
     "evalue": "'Models Storage'",
     "output_type": "error",
     "traceback": [
      "\u001b[31m---------------------------------------------------------------------------\u001b[39m",
      "\u001b[31mKeyError\u001b[39m                                  Traceback (most recent call last)",
      "\u001b[36mCell\u001b[39m\u001b[36m \u001b[39m\u001b[32mIn[56]\u001b[39m\u001b[32m, line 2\u001b[39m\n\u001b[32m      1\u001b[39m centralized_server = CentralizedServer()\n\u001b[32m----> \u001b[39m\u001b[32m2\u001b[39m blockchain = \u001b[43mBlockchain\u001b[49m\u001b[43m(\u001b[49m\u001b[33;43m\"\u001b[39;49m\u001b[33;43mBlockchain Example\u001b[39;49m\u001b[33;43m\"\u001b[39;49m\u001b[43m,\u001b[49m\u001b[43m \u001b[49m\u001b[43m{\u001b[49m\n\u001b[32m      3\u001b[39m \u001b[43m        \u001b[49m\u001b[33;43m\"\u001b[39;49m\u001b[33;43mConsensus\u001b[39;49m\u001b[33;43m\"\u001b[39;49m\u001b[43m:\u001b[49m\u001b[43m \u001b[49m\u001b[43mempty\u001b[49m\u001b[43m,\u001b[49m\n\u001b[32m      4\u001b[39m \u001b[43m        \u001b[49m\u001b[33;43m\"\u001b[39;49m\u001b[33;43mTransactions\u001b[39;49m\u001b[33;43m\"\u001b[39;49m\u001b[43m:\u001b[49m\u001b[43m \u001b[49m\u001b[43mempty\u001b[49m\n\u001b[32m      5\u001b[39m \u001b[43m    \u001b[49m\u001b[43m}\u001b[49m\u001b[43m)\u001b[49m\n\u001b[32m      6\u001b[39m distributed_federated_learning = FederatedLearning(\u001b[33m\"\u001b[39m\u001b[33mDistributed Federated Learning\u001b[39m\u001b[33m\"\u001b[39m, {\n\u001b[32m      7\u001b[39m         \u001b[33m\"\u001b[39m\u001b[33mAggregation\u001b[39m\u001b[33m\"\u001b[39m: blockchain,\n\u001b[32m      8\u001b[39m         \u001b[33m\"\u001b[39m\u001b[33mModels Storage\u001b[39m\u001b[33m\"\u001b[39m: blockchain\n\u001b[32m      9\u001b[39m     })\n\u001b[32m     10\u001b[39m distributed_federated_learning.display()\n",
      "\u001b[36mCell\u001b[39m\u001b[36m \u001b[39m\u001b[32mIn[52]\u001b[39m\u001b[32m, line 18\u001b[39m, in \u001b[36mSystemBase.__init__\u001b[39m\u001b[34m(self, name, components)\u001b[39m\n\u001b[32m     15\u001b[39m     \u001b[38;5;28;01mraise\u001b[39;00m \u001b[38;5;167;01mTypeError\u001b[39;00m(\u001b[33m\"\u001b[39m\u001b[33mAll components should be instances of Component\u001b[39m\u001b[33m\"\u001b[39m)\n\u001b[32m     17\u001b[39m \u001b[38;5;28mself\u001b[39m.components = components\n\u001b[32m---> \u001b[39m\u001b[32m18\u001b[39m \u001b[38;5;28mself\u001b[39m.properties = \u001b[38;5;28;43mself\u001b[39;49m\u001b[43m.\u001b[49m\u001b[43m_merge_properties\u001b[49m\u001b[43m(\u001b[49m\u001b[43m)\u001b[49m\n",
      "\u001b[36mCell\u001b[39m\u001b[36m \u001b[39m\u001b[32mIn[52]\u001b[39m\u001b[32m, line 33\u001b[39m, in \u001b[36mSystemBase._merge_properties\u001b[39m\u001b[34m(self)\u001b[39m\n\u001b[32m     31\u001b[39m \u001b[38;5;28;01mif\u001b[39;00m \u001b[33m\"\u001b[39m\u001b[33muntrusted\u001b[39m\u001b[33m\"\u001b[39m \u001b[38;5;129;01min\u001b[39;00m \u001b[38;5;28mall\u001b[39m \u001b[38;5;129;01mand\u001b[39;00m \u001b[38;5;28mself\u001b[39m.components[\u001b[33m\"\u001b[39m\u001b[33mAggregation\u001b[39m\u001b[33m\"\u001b[39m] \u001b[38;5;129;01mand\u001b[39;00m \u001b[33m\"\u001b[39m\u001b[33mtrusted\u001b[39m\u001b[33m\"\u001b[39m \u001b[38;5;129;01min\u001b[39;00m \u001b[38;5;28mself\u001b[39m.components[\u001b[33m\"\u001b[39m\u001b[33mAggregation\u001b[39m\u001b[33m\"\u001b[39m].properties:\n\u001b[32m     32\u001b[39m     \u001b[38;5;28mall\u001b[39m.remove(\u001b[33m\"\u001b[39m\u001b[33muntrusted\u001b[39m\u001b[33m\"\u001b[39m)\n\u001b[32m---> \u001b[39m\u001b[32m33\u001b[39m \u001b[38;5;28;01mif\u001b[39;00m \u001b[38;5;28;43mself\u001b[39;49m\u001b[43m.\u001b[49m\u001b[43mcomponents\u001b[49m\u001b[43m[\u001b[49m\u001b[33;43m\"\u001b[39;49m\u001b[33;43mModels Storage\u001b[39;49m\u001b[33;43m\"\u001b[39;49m\u001b[43m]\u001b[49m \u001b[38;5;129;01mand\u001b[39;00m \u001b[33m\"\u001b[39m\u001b[33mtrusted\u001b[39m\u001b[33m\"\u001b[39m \u001b[38;5;129;01min\u001b[39;00m \u001b[38;5;28mself\u001b[39m.components[\u001b[33m\"\u001b[39m\u001b[33mModels Storage\u001b[39m\u001b[33m\"\u001b[39m].properties:\n\u001b[32m     34\u001b[39m     \u001b[38;5;28mall\u001b[39m.add(\u001b[33m\"\u001b[39m\u001b[33mheavy-storage\u001b[39m\u001b[33m\"\u001b[39m)\n\u001b[32m     35\u001b[39m \u001b[38;5;28;01mif\u001b[39;00m \u001b[33m\"\u001b[39m\u001b[33mcorrupted\u001b[39m\u001b[33m\"\u001b[39m \u001b[38;5;129;01min\u001b[39;00m \u001b[38;5;28mall\u001b[39m \u001b[38;5;129;01mand\u001b[39;00m \u001b[33m\"\u001b[39m\u001b[33mprivacy-preserving\u001b[39m\u001b[33m\"\u001b[39m \u001b[38;5;129;01min\u001b[39;00m \u001b[38;5;28mall\u001b[39m:\n",
      "\u001b[31mKeyError\u001b[39m: 'Models Storage'"
     ]
    }
   ],
   "source": [
    "centralized_server = CentralizedServer()\n",
    "blockchain = Blockchain(\"Blockchain Example\", {\n",
    "        \"Consensus\": empty,\n",
    "        \"Transactions\": empty\n",
    "    })\n",
    "distributed_federated_learning = FederatedLearning(\"Distributed Federated Learning\", {\n",
    "        \"Aggregation\": blockchain,\n",
    "        \"Models Storage\": blockchain\n",
    "    })\n",
    "distributed_federated_learning.display()"
   ]
  },
  {
   "cell_type": "markdown",
   "metadata": {},
   "source": [
    "#### Limitations"
   ]
  },
  {
   "cell_type": "markdown",
   "metadata": {},
   "source": [
    "### 4. Off-chain Data"
   ]
  },
  {
   "cell_type": "markdown",
   "metadata": {},
   "source": [
    "The blockchain based Federated Learning solution is not enough to solve all the problems. This design is not scalable, as the blockchain is not designed to store large amounts of data.\n",
    "We need to store the data off-chain, while still ensuring that the data is tamper-proof and can be trusted."
   ]
  },
  {
   "cell_type": "markdown",
   "metadata": {},
   "source": [
    "#### Properties"
   ]
  },
  {
   "cell_type": "markdown",
   "metadata": {},
   "source": [
    "We will use a decentralized storage system to store the data off-chain. This system will be used to store the data in a tamper-proof way, while still allowing the clients to access the data."
   ]
  },
  {
   "cell_type": "code",
   "execution_count": 38,
   "metadata": {},
   "outputs": [
    {
     "data": {
      "text/plain": [
       "'Distributed Storage (scalable, unavailable)'"
      ]
     },
     "execution_count": 38,
     "metadata": {},
     "output_type": "execute_result"
    }
   ],
   "source": [
    "distributed_storage = DistributedStorage()\n",
    "distributed_storage.info()"
   ]
  },
  {
   "cell_type": "markdown",
   "metadata": {},
   "source": [
    "This system is unavailable, as we cannot guarantee that the data stored is kept by a server that is alive.\n",
    "This is problematic when combined with a blockchain, because clients may never receive the new model they need to train.\n",
    "Try to see what happens when you use a blockchain based Federated Learning system with an off-chain data storage system."
   ]
  },
  {
   "cell_type": "code",
   "execution_count": 39,
   "metadata": {},
   "outputs": [
    {
     "name": "stdout",
     "output_type": "stream",
     "text": [
      "External Storage Federated Learning\n",
      "Properties: privacy-preserving\n",
      "Components:\n",
      "Aggregation: Empty ()\n",
      "Models Storage: Empty ()\n",
      "\n"
     ]
    }
   ],
   "source": [
    "external_storage_fl = FederatedLearning(\"External Storage Federated Learning\", {\n",
    "        \"Aggregation\": empty,\n",
    "        \"Models Storage\": empty\n",
    "    })\n",
    "external_storage_fl.display()"
   ]
  },
  {
   "cell_type": "markdown",
   "metadata": {},
   "source": [
    "We can provide the missing properties using availability and integrity proofs (PoA&I). These proofs are stored on the blockchain."
   ]
  },
  {
   "cell_type": "code",
   "execution_count": 40,
   "metadata": {},
   "outputs": [],
   "source": [
    "poai = Component(\"POAI\", [\"data-available\"]) # POAI -> Certificate"
   ]
  },
  {
   "cell_type": "markdown",
   "metadata": {},
   "source": [
    "Now, you need to combine these proofs, the off-chain data storage system, and the blockchain based Federated Learning system to build a complete system that is reliable, scalable, and tamper-proof."
   ]
  },
  {
   "cell_type": "code",
   "execution_count": 41,
   "metadata": {},
   "outputs": [
    {
     "name": "stdout",
     "output_type": "stream",
     "text": [
      "POAI Blockchain\n",
      "Properties: trusted, data-available\n",
      "Components:\n",
      "Consensus: Empty ()\n",
      "Transactions: POAI (data-available)\n",
      "\n",
      "POAI Federated Learning\n",
      "Properties: privacy-preserving\n",
      "Components:\n",
      "Aggregation: Empty ()\n",
      "Models Storage: Empty ()\n",
      "\n"
     ]
    }
   ],
   "source": [
    "poai_blockchain = Blockchain(\"POAI Blockchain\", {\n",
    "        \"Consensus\": empty, # leave empty\n",
    "        \"Transactions\": poai\n",
    "    })\n",
    "poai_blockchain.display()\n",
    "\n",
    "poai_fl = FederatedLearning(\"POAI Federated Learning\", {\n",
    "        \"Aggregation\": empty,\n",
    "        \"Models Storage\": empty\n",
    "    })\n",
    "poai_fl.display()"
   ]
  },
  {
   "cell_type": "markdown",
   "metadata": {},
   "source": [
    "#### Implementation"
   ]
  },
  {
   "cell_type": "markdown",
   "metadata": {},
   "source": [
    "Let's have a look at how there proofs are implemented in practice. They certify that enough correct servers are storing the data and that the data is not tampered with. "
   ]
  },
  {
   "cell_type": "markdown",
   "metadata": {},
   "source": [
    "We split the implementations in two parts: retreive_data, when a server gets the data from the off-chain storage system, and make_poai, when a server creates the proof of availability and integrity. f is a bound on the number of server that can crash, so if we receive a signature from at least f+1 servers, we can be sure that the data is available and not tampered with..."
   ]
  },
  {
   "cell_type": "code",
   "execution_count": 42,
   "metadata": {},
   "outputs": [],
   "source": [
    "def retreive_data(data, hash, sign, send):\n",
    "    return \"TODO\"\n",
    "\n",
    "def make_poai(data, hash, receive, f):\n",
    "    return \"TODO\""
   ]
  },
  {
   "cell_type": "markdown",
   "metadata": {},
   "source": [
    "### 5. Final Solution"
   ]
  }
 ],
 "metadata": {
  "kernelspec": {
   "display_name": "3.13.4",
   "language": "python",
   "name": "python3"
  },
  "language_info": {
   "codemirror_mode": {
    "name": "ipython",
    "version": 3
   },
   "file_extension": ".py",
   "mimetype": "text/x-python",
   "name": "python",
   "nbconvert_exporter": "python",
   "pygments_lexer": "ipython3",
   "version": "3.13.4"
  }
 },
 "nbformat": 4,
 "nbformat_minor": 2
}
